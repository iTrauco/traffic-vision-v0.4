{
 "cells": [
  {
   "cell_type": "markdown",
   "id": "7b9d10c5-195d-41d2-b74c-12b3e06f642c",
   "metadata": {},
   "source": [
    "# 📓 Notebook Manager\n",
    "\n",
    "This cell initializes the widgets required for managing your research notebook. Please run the cell below to enable functionality for:\n",
    "- Exporting cells tagged with `export` into a `clean` notebook\n",
    "- Generating a dynamic Table of Contents (TOC)\n",
    "- Exporting the notebook to GitHub-compatible Markdown\n",
    "\n",
    "➡️ **Be sure to execute the next cell before continuing with any editing or exporting.**"
   ]
  },
  {
   "cell_type": "code",
   "execution_count": 5,
   "id": "95312728-5bf6-40b4-854e-fbc5ff4b14e1",
   "metadata": {
    "editable": true,
    "slideshow": {
     "slide_type": ""
    },
    "tags": []
   },
   "outputs": [
    {
     "data": {
      "application/vnd.jupyter.widget-view+json": {
       "model_id": "47849d84f03242b29b103ef0c9721110",
       "version_major": 2,
       "version_minor": 0
      },
      "text/plain": [
       "HBox(children=(VBox(children=(Button(button_style='primary', description='Generate TOC', icon='list', style=Bu…"
      ]
     },
     "metadata": {},
     "output_type": "display_data"
    }
   ],
   "source": [
    "# Cell 1 - Workflow Tools\n",
    "import sys\n",
    "sys.path.insert(0, '../../lib')\n",
    "\n",
    "from notebook_tools import TOCWidget, ExportWidget\n",
    "import ipywidgets as widgets\n",
    "\n",
    "\n",
    "# Create widget instances\n",
    "toc = TOCWidget()\n",
    "export = ExportWidget()\n",
    "\n",
    "# Create horizontal layout\n",
    "left_side = widgets.VBox([toc.button, export.button, toc.status])\n",
    "right_side = widgets.VBox([toc.output, export.output])\n",
    "\n",
    "# Display side by side\n",
    "display(widgets.HBox([left_side, right_side]))"
   ]
  },
  {
   "cell_type": "markdown",
   "id": "6cc58eef-463e-465b-9b53-acdd3bc398dc",
   "metadata": {
    "editable": true,
    "slideshow": {
     "slide_type": ""
    },
    "tags": []
   },
   "source": [
    "# 📑 Table of Contents (Auto-Generated)\n",
    "\n",
    "This section will automatically generate a table of contents for your research notebook once you run the **Generate TOC** function. The table of contents will help you navigate through your data collection, analysis, and findings as your citizen science project develops.\n",
    "\n",
    "➡️ **Do not edit this cell manually. It will be overwritten automatically.**\n"
   ]
  },
  {
   "cell_type": "markdown",
   "id": "877dad16-2ca4-4acd-acc0-064c3f5a8cd0",
   "metadata": {
    "editable": true,
    "slideshow": {
     "slide_type": ""
    },
    "tags": [
     "export"
    ]
   },
   "source": [
    "<!-- TOC -->\n",
    "# Table of Contents\n",
    "\n",
    "\n",
    "<!-- /TOC -->\n"
   ]
  },
  {
   "cell_type": "markdown",
   "id": "af0da59d-2595-41e5-8394-f466cd1de53a",
   "metadata": {
    "editable": true,
    "slideshow": {
     "slide_type": ""
    },
    "tags": []
   },
   "source": [
    "## 🔧 Environment Setup\n",
    "\n",
    "This cell establishes the batch preprocessing environment by:\n",
    "\n",
    "1. **Importing Required Libraries**\n",
    "  - OpenCV (cv2) for video processing and frame extraction\n",
    "  - NumPy for array operations\n",
    "  - Pandas for organizing metadata and results\n",
    "  - Pathlib for cross-platform file path handling\n",
    "  - JSON for checkpoint persistence\n",
    "  - Datetime for timestamp parsing and filtering\n",
    "  - Logging for process tracking\n",
    "\n",
    "2. **Setting System Paths**\n",
    "  - Adding mlops_ops modules to Python path\n",
    "  - Verifying access to preprocessing utilities\n",
    "\n",
    "3. **Initializing Checkpoint System**\n",
    "  - Loading any previous processing state\n",
    "  - Setting up progress tracking variables\n",
    "  - Establishing failure recovery mechanism\n",
    "\n",
    "**Note**: Run this cell first to ensure all dependencies are available before proceeding with batch processing."
   ]
  },
  {
   "cell_type": "code",
   "execution_count": 10,
   "id": "f4bea106-187f-47dd-a300-44aec39f2005",
   "metadata": {},
   "outputs": [
    {
     "name": "stdout",
     "output_type": "stream",
     "text": [
      "⚠️ OpenCV not installed. Install with: pip install opencv-python\n",
      "   Continuing without video processing capabilities...\n",
      "✓ Python version: 3.12.9\n",
      "✓ Working directory: /home/trauco/v3-traffic-vision/notebooks/MLOps\n"
     ]
    }
   ],
   "source": [
    "# Cell 2 - Environment Setup\n",
    "import numpy as np\n",
    "import pandas as pd\n",
    "from pathlib import Path\n",
    "import json\n",
    "from datetime import datetime, timedelta\n",
    "import logging\n",
    "import os\n",
    "import sys\n",
    "\n",
    "# Add mlops modules to path\n",
    "sys.path.insert(0, '../lib')\n",
    "\n",
    "# Setup logging\n",
    "logging.basicConfig(\n",
    "    level=logging.INFO,\n",
    "    format='%(asctime)s - %(levelname)s - %(message)s'\n",
    ")\n",
    "\n",
    "# Check for OpenCV\n",
    "try:\n",
    "    import cv2\n",
    "    print(f\"✓ OpenCV version: {cv2.__version__}\")\n",
    "except ImportError:\n",
    "    print(\"⚠️ OpenCV not installed. Install with: pip install opencv-python\")\n",
    "    print(\"   Continuing without video processing capabilities...\")\n",
    "    cv2 = None\n",
    "\n",
    "print(f\"✓ Python version: {sys.version.split()[0]}\")\n",
    "print(f\"✓ Working directory: {os.getcwd()}\")"
   ]
  },
  {
   "cell_type": "markdown",
   "id": "e70e2904-fcff-4d19-919b-cc63c029d0a8",
   "metadata": {},
   "source": [
    "## 📐 Batch Processing Configuration\n",
    "\n",
    "Define the core parameters for daily batch preprocessing:\n",
    "\n",
    "- **Target Time**: Extract frames from videos closest to 12:00 PM EST\n",
    "- **Date Filter**: Process only videos from yesterday (full calendar day)\n",
    "- **Frame Count**: Number of frames to extract per video\n",
    "- **Input Path**: Base directory containing camera subdirectories\n",
    "- **Output Path**: Where to save extracted frames\n",
    "- **File Pattern**: Expected video filename format (CAMERA_YYYYMMDD_HHMMSS.mp4)\n",
    "\n",
    "This configuration serves as the single source of truth for the batch processing workflow."
   ]
  },
  {
   "cell_type": "code",
   "execution_count": 11,
   "id": "d7d90cc9-659c-4536-9062-19f701c38f6b",
   "metadata": {},
   "outputs": [
    {
     "name": "stdout",
     "output_type": "stream",
     "text": [
      "Batch Processing Configuration:\n",
      "  Target Date: 20250620\n",
      "  Target Time: 120000 (12:00:00)\n",
      "  Frames per video: 10\n",
      "  Input: /home/trauco/traffic-recordings\n",
      "  Output: batch_processed_frames\n"
     ]
    }
   ],
   "source": [
    "# Cell 3 - Batch Processing Configuration\n",
    "from datetime import datetime, timedelta\n",
    "\n",
    "# Configuration\n",
    "CONFIG = {\n",
    "   # Time targeting\n",
    "   'TARGET_TIME': '120000',  # 12:00:00 in 24-hour format\n",
    "   'TARGET_HOUR': 12,\n",
    "   \n",
    "   # Date filtering - yesterday only\n",
    "   'PROCESS_DATE': (datetime.now() - timedelta(days=1)).strftime('%Y%m%d'),\n",
    "   \n",
    "   # Frame extraction\n",
    "   'FRAMES_PER_VIDEO': 10,\n",
    "   \n",
    "   # Paths\n",
    "   'INPUT_DIR': Path.home() / 'traffic-recordings',\n",
    "   'OUTPUT_DIR': Path('batch_processed_frames'),\n",
    "   \n",
    "   # File pattern\n",
    "   'VIDEO_PATTERN': '*_{date}_*.mp4',  # Will be formatted with PROCESS_DATE\n",
    "   'FILENAME_FORMAT': '{camera}_{date}_{time}.mp4'  # Expected format\n",
    "}\n",
    "\n",
    "# Display configuration\n",
    "print(\"Batch Processing Configuration:\")\n",
    "print(f\"  Target Date: {CONFIG['PROCESS_DATE']}\")\n",
    "print(f\"  Target Time: {CONFIG['TARGET_TIME']} (12:00:00)\")\n",
    "print(f\"  Frames per video: {CONFIG['FRAMES_PER_VIDEO']}\")\n",
    "print(f\"  Input: {CONFIG['INPUT_DIR']}\")\n",
    "print(f\"  Output: {CONFIG['OUTPUT_DIR']}\")"
   ]
  },
  {
   "cell_type": "markdown",
   "id": "20ad1c64-a59c-4c60-b74c-788e94b80f74",
   "metadata": {},
   "source": [
    "## 💾 Initialize Checkpoint System\n",
    "\n",
    "Create checkpoint functionality to track processing progress and enable recovery from interruptions. This system saves state after each video completes, allowing the workflow to resume from the last successful video if stopped."
   ]
  },
  {
   "cell_type": "code",
   "execution_count": null,
   "id": "3a30d389-c60b-44de-a4ed-d77dd92bf8d9",
   "metadata": {},
   "outputs": [],
   "source": []
  }
 ],
 "metadata": {
  "kernelspec": {
   "display_name": "Python 3 (ipykernel)",
   "language": "python",
   "name": "python3"
  },
  "language_info": {
   "codemirror_mode": {
    "name": "ipython",
    "version": 3
   },
   "file_extension": ".py",
   "mimetype": "text/x-python",
   "name": "python",
   "nbconvert_exporter": "python",
   "pygments_lexer": "ipython3",
   "version": "3.12.9"
  }
 },
 "nbformat": 4,
 "nbformat_minor": 5
}
