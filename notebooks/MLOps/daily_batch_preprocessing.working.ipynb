{
 "cells": [
  {
   "cell_type": "markdown",
   "id": "7b9d10c5-195d-41d2-b74c-12b3e06f642c",
   "metadata": {},
   "source": [
    "# \ud83d\udcd3 Notebook Manager\n",
    "\n",
    "This cell initializes the widgets required for managing your research notebook. Please run the cell below to enable functionality for:\n",
    "- Exporting cells tagged with `export` into a `clean` notebook\n",
    "- Generating a dynamic Table of Contents (TOC)\n",
    "- Exporting the notebook to GitHub-compatible Markdown\n",
    "\n",
    "\u27a1\ufe0f **Be sure to execute the next cell before continuing with any editing or exporting.**"
   ]
  },
  {
   "cell_type": "code",
   "execution_count": 1,
   "id": "95312728-5bf6-40b4-854e-fbc5ff4b14e1",
   "metadata": {
    "editable": true,
    "slideshow": {
     "slide_type": ""
    },
    "tags": []
   },
   "outputs": [
    {
     "data": {
      "application/vnd.jupyter.widget-view+json": {
       "model_id": "a9f82be471254ab2a7f0825e8dd427d3",
       "version_major": 2,
       "version_minor": 0
      },
      "text/plain": [
       "HBox(children=(VBox(children=(Button(button_style='primary', description='Generate TOC', icon='list', style=Bu\u2026"
      ]
     },
     "metadata": {},
     "output_type": "display_data"
    }
   ],
   "source": [
    "# Cell 1 - Workflow Tools\n",
    "import sys\n",
    "sys.path.insert(0, '../../lib')\n",
    "\n",
    "from notebook_tools import TOCWidget, ExportWidget\n",
    "import ipywidgets as widgets\n",
    "\n",
    "\n",
    "# Create widget instances\n",
    "toc = TOCWidget()\n",
    "export = ExportWidget()\n",
    "\n",
    "# Create horizontal layout\n",
    "left_side = widgets.VBox([toc.button, export.button, toc.status])\n",
    "right_side = widgets.VBox([toc.output, export.output])\n",
    "\n",
    "# Display side by side\n",
    "display(widgets.HBox([left_side, right_side]))"
   ]
  },
  {
   "cell_type": "markdown",
   "id": "6cc58eef-463e-465b-9b53-acdd3bc398dc",
   "metadata": {
    "editable": true,
    "slideshow": {
     "slide_type": ""
    },
    "tags": []
   },
   "source": [
    "# \ud83d\udcd1 Table of Contents (Auto-Generated)\n",
    "\n",
    "This section will automatically generate a table of contents for your research notebook once you run the **Generate TOC** function. The table of contents will help you navigate through your data collection, analysis, and findings as your citizen science project develops.\n",
    "\n",
    "\u27a1\ufe0f **Do not edit this cell manually. It will be overwritten automatically.**\n"
   ]
  },
  {
   "cell_type": "markdown",
   "id": "877dad16-2ca4-4acd-acc0-064c3f5a8cd0",
   "metadata": {
    "editable": true,
    "slideshow": {
     "slide_type": ""
    },
    "tags": [
     "export"
    ]
   },
   "source": [
    "<!-- TOC -->\n",
    "# Table of Contents\n",
    "\n",
    "\n",
    "<!-- /TOC -->\n"
   ]
  },
  {
   "cell_type": "markdown",
   "id": "47952032-5372-4049-b5ff-426cf27d54d4",
   "metadata": {
    "editable": true,
    "slideshow": {
     "slide_type": ""
    },
    "tags": [
     "export"
    ]
   },
   "source": [
    "# \ud83d\udd2c Cellular Respiration Pathways\n",
    "\n",
    "Lorem ipsum dolor sit amet, consectetur adipiscing elit. The mitochondrial electron transport chain demonstrates sequential redox reactions with cytochrome c oxidase exhibiting Vmax of 145 \u03bcmol/min/mg protein. Sed do eiusmod tempor incididunt ut labore et dolore magna aliqua.\n",
    "\n",
    "```mermaid\n",
    "flowchart LR\n",
    "    A[Glucose] --> B[Glycolysis]\n",
    "    B --> C[Pyruvate]\n",
    "    C --> D[Acetyl-CoA]\n",
    "    D --> E[Citric Acid Cycle]\n",
    "    E --> F[NADH/FADH\u2082]\n",
    "    F --> G[Electron Transport Chain]\n",
    "    G --> H[ATP Synthase]\n",
    "    H --> I[32-36 ATP]\n",
    "    \n",
    "    J[O\u2082] --> G\n",
    "    G --> K[H\u2082O]\n",
    "    \n",
    "    style A fill:#fff3e0\n",
    "    style I fill:#e8f5e8\n",
    "    style J fill:#e3f2fd\n",
    "    style K fill:#e3f2fd\n",
    "```\n",
    "\n",
    "Ut enim ad minim veniam, the phosphorylation efficiency reached 2.5 ATP per NADH molecule. Quis nostrud exercitation ullamco laboris nisi ut aliquip ex ea commodo consequat."
   ]
  },
  {
   "cell_type": "code",
   "execution_count": null,
   "id": "44646336-66e7-4461-a1fc-649b53e8fcf4",
   "metadata": {
    "editable": true,
    "slideshow": {
     "slide_type": ""
    },
    "tags": []
   },
   "outputs": [],
   "source": []
  }
 ],
 "metadata": {
  "kernelspec": {
   "display_name": "Python 3 (ipykernel)",
   "language": "python",
   "name": "python3"
  },
  "language_info": {
   "codemirror_mode": {
    "name": "ipython",
    "version": 3
   },
   "file_extension": ".py",
   "mimetype": "text/x-python",
   "name": "python",
   "nbconvert_exporter": "python",
   "pygments_lexer": "ipython3",
   "version": "3.12.9"
  }
 },
 "nbformat": 4,
 "nbformat_minor": 5
}